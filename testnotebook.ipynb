{
 "cells": [
  {
   "cell_type": "markdown",
   "id": "6c2154bf-27cd-4303-b79f-77d7aecc1555",
   "metadata": {},
   "source": [
    "Hello, everyone. This is a test notebook, and I am using it to find my way around JupyterLab."
   ]
  },
  {
   "cell_type": "code",
   "execution_count": 2,
   "id": "e4cb9017-b109-4e4d-801f-d82c48b617b2",
   "metadata": {
    "tags": []
   },
   "outputs": [
    {
     "name": "stdout",
     "output_type": "stream",
     "text": [
      "Python Version:\n",
      " 3.11.5 (main, Sep 11 2023, 13:54:46) [GCC 11.2.0]\n",
      "\n",
      "Anaconda Version:\n",
      " # packages in environment at /home/viraat/apps/anaconda3:\n",
      "#\n",
      "# Name                    Version                   Build  Channel\n",
      "fonts-anaconda            1                    h8fa9717_0  \n",
      "\n"
     ]
    }
   ],
   "source": [
    "import sys\n",
    "print('Python Version:\\n', sys.version)\n",
    "\n",
    "import os\n",
    "result = os.popen('conda list anaconda$').read()\n",
    "print('\\nAnaconda Version:\\n', result)"
   ]
  }
 ],
 "metadata": {
  "kernelspec": {
   "display_name": "Python 3 (ipykernel)",
   "language": "python",
   "name": "python3"
  },
  "language_info": {
   "codemirror_mode": {
    "name": "ipython",
    "version": 3
   },
   "file_extension": ".py",
   "mimetype": "text/x-python",
   "name": "python",
   "nbconvert_exporter": "python",
   "pygments_lexer": "ipython3",
   "version": "3.11.5"
  }
 },
 "nbformat": 4,
 "nbformat_minor": 5
}
